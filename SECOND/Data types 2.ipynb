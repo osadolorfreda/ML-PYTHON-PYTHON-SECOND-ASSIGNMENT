{
 "cells": [
  {
   "cell_type": "code",
   "execution_count": null,
   "id": "4dfcaed9-6ee7-4410-a182-167e8df4a8d6",
   "metadata": {},
   "outputs": [],
   "source": [
    "Data types provided by Python are not only powerful but also can be nested within other i.e derived form other data types\n",
    "integers\n",
    "dicitionary\n",
    "set\n",
    "tuple\n",
    "boolean\n",
    "sets\n",
    "Strings\n",
    "Float\n",
    "Decimals"
   ]
  },
  {
   "cell_type": "code",
   "execution_count": null,
   "id": "e0e06e64-eedd-4181-b3e3-a023fef81d90",
   "metadata": {},
   "outputs": [],
   "source": [
    "Integer numbers are whole numbers with no decimal places. \n",
    "They can be positive or negative numbers. For example, 0, 1, 2, 3, -1, -2, and -3 are all integers. \n",
    "Usually, you’ll use positive integer numbers to count things\n",
    "\n",
    "float are numbers with a decimal place. For example, 1.0 and 3.14 are floating-point numbers.\n",
    "You can also have negative float numbers, such as -2.75. \n",
    "In Python, the name of the float class represents floating-point\n",
    "\n",
    "In Python, strings are sequences of character data that you can use to represent and store textual data. \n",
    "The string type in Python is called str\n",
    "\n",
    "\n",
    "\n",
    "\n",
    "\n",
    "\n",
    "\n"
   ]
  },
  {
   "cell_type": "code",
   "execution_count": null,
   "id": "9f133998-3990-47bb-b041-18586f6a0f4c",
   "metadata": {},
   "outputs": [],
   "source": [
    "Integer(numbers)\n",
    "num1 = 5\n",
    "print(num1, 'is of type', type(num1))\n",
    "\n",
    "num2 = 2.0\n",
    "print(num2, 'is of type', type(num2))\n",
    "\n",
    "num3 = 1+2j\n",
    "print(num3, 'is of type', type(num3))"
   ]
  },
  {
   "cell_type": "code",
   "execution_count": null,
   "id": "12a01d11-f7b5-47e7-820f-fdda4c27421e",
   "metadata": {},
   "outputs": [],
   "source": [
    "Boolean\n",
    "    is_active: bool = True\n",
    "    has_permission: bool = FalseA"
   ]
  },
  {
   "cell_type": "code",
   "execution_count": null,
   "id": "6f94b0d2-e470-4141-873b-964512f1170a",
   "metadata": {},
   "outputs": [],
   "source": [
    "Float\n",
    ">>> 4.2\n",
    "4.2\n",
    "\n",
    ">>> 4.\n",
    "4.0\n",
    "\n",
    ">>> .2\n",
    "0.2"
   ]
  },
  {
   "cell_type": "code",
   "execution_count": null,
   "id": "0143d1df-8204-4e83-945f-24f316c57b78",
   "metadata": {},
   "outputs": [],
   "source": [
    "String\n",
    ">>> type(\"Hello, World!\")\n",
    "<class 'str'>"
   ]
  }
 ],
 "metadata": {
  "kernelspec": {
   "display_name": "Python 3 (ipykernel)",
   "language": "python",
   "name": "python3"
  },
  "language_info": {
   "codemirror_mode": {
    "name": "ipython",
    "version": 3
   },
   "file_extension": ".py",
   "mimetype": "text/x-python",
   "name": "python",
   "nbconvert_exporter": "python",
   "pygments_lexer": "ipython3",
   "version": "3.13.7"
  }
 },
 "nbformat": 4,
 "nbformat_minor": 5
}

{
 "cells": [
  {
   "cell_type": "code",
   "execution_count": null,
   "id": "1305bf1d-94ca-410a-95a1-b71757680aaf",
   "metadata": {},
   "outputs": [],
   "source": [
    "Data Structures are a way of organizing data so that it can be accessed more efficiently depending upon the situation. \n",
    "Data Structures are fundamentals of any programming language around which a program is built.\n",
    "list\n",
    "tuple\n",
    "dictionaries\n",
    "trees\n",
    "queue\n",
    "set\n",
    "Graph\n"
   ]
  },
  {
   "cell_type": "code",
   "execution_count": null,
   "id": "2e557c59-d6a3-4e6b-9eb7-42bdfc5dff07",
   "metadata": {},
   "outputs": [],
   "source": [
    " User profile management\n",
    "class UserProfile:\n",
    "    def __init__(self):\n",
    "        self.users = {}\n",
    "\n",
    "    def create_user(self, username, email, role=\"user\"):\n",
    "        if username in self.users:\n",
    "            print(f\"User '{username}' already exists.\")\n",
    "        else:\n",
    "            self.users[username] = {\"email\": email, \"role\": role}\n",
    "            print(f\"User '{username}' created.\")\n",
    "\n",
    "    def get_user_info(self, username):\n",
    "        return self.users.get(username, \"User not found.\")\n",
    "\n",
    "    def update_user_role(self, username, new_role):\n",
    "        if username in self.users:\n",
    "            self.users[username][\"role\"] = new_role\n",
    "            print(f\"Role for '{username}' updated to '{new_role}'.\")\n",
    "        else:\n",
    "            print(f\"User '{username}' not found.\")\n",
    "\n"
   ]
  },
  {
   "cell_type": "code",
   "execution_count": null,
   "id": "23f5558b-c2bf-4940-8efe-3aba64114d09",
   "metadata": {},
   "outputs": [],
   "source": []
  }
 ],
 "metadata": {
  "kernelspec": {
   "display_name": "",
   "name": ""
  },
  "language_info": {
   "name": ""
  }
 },
 "nbformat": 4,
 "nbformat_minor": 5
}
